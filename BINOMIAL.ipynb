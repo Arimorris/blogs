{
 "cells": [
  {
   "cell_type": "markdown",
   "metadata": {},
   "source": [
    "This notebook shows the code used for the Medium blog Probability: BINOMIAL DISTRIBUTION. Link below "
   ]
  },
  {
   "cell_type": "markdown",
   "metadata": {},
   "source": [
    "## $$P(A|B) = \\frac{P(A) * P(B|A)}{P(B)}$$"
   ]
  },
  {
   "cell_type": "markdown",
   "metadata": {},
   "source": [
    "## $$P(X = k) = C(n,k) * p^k * (1-p)^{n-k}$$"
   ]
  },
  {
   "cell_type": "markdown",
   "metadata": {},
   "source": [
    "## Shots Made\n",
    "---------------------------------------\n",
    "1st|2nd|3rd|4th|5th|\n",
    "--|--:|--:|--:|--:|\n",
    "M|S|S|S|S|\n",
    "S|M|S|S|S|\n",
    "S|S|M|S|S|\n",
    "S|S|S|M|S|\n",
    "S|S|S|S|M|"
   ]
  },
  {
   "cell_type": "markdown",
   "metadata": {},
   "source": [
    "# $$\\frac{n!}{k!(n-k)!}$$"
   ]
  },
  {
   "cell_type": "markdown",
   "metadata": {},
   "source": [
    "# $$C(5,4) = \\frac{5!}{4!(5-4)!} = \\frac{5 * 4!}{4!1!} = \\frac{5}{1} = 5$$"
   ]
  },
  {
   "cell_type": "markdown",
   "metadata": {},
   "source": [
    "## $$p^k = .8^4$$"
   ]
  },
  {
   "cell_type": "markdown",
   "metadata": {},
   "source": [
    "## $$(1-p)^{n-k} = (1-.8)^{5-4} = .2^1$$"
   ]
  },
  {
   "cell_type": "markdown",
   "metadata": {},
   "source": [
    "1st|2nd|3rd|4th|5th|      | 1st|2nd|3rd|4th|5th|\n",
    "--|--:|--:|--:|--:|        |--|--:|--:|--:|--:|\n",
    "M|S|S|S|S|    ----- >      |.2|.8|.8|.8|.8|\n",
    "S|M|S|S|S|    ----- >      |.8|.2|.8|.8|.8|\n",
    "S|S|M|S|S|    ----- >      |.8|.8|.2|.8|.8|\n",
    "S|S|S|M|S|    ----- >      |.8|.8|.8|.2|.8|\n",
    "S|S|S|S|M|    ----- >      |.8|.8|.8|.8|.2|\n",
    "\n",
    "\n",
    "\n"
   ]
  },
  {
   "cell_type": "markdown",
   "metadata": {},
   "source": [
    "1st|2nd|3rd|4th|5th|\n",
    "--|--:|--:|--:|--:|\n",
    ".2|.8|.8|.8|.8|\n",
    ".8|.2|.8|.8|.8|\n",
    ".8|.8|.2|.8|.8|\n",
    ".8|.8|.8|.2|.8|\n",
    ".8|.8|.8|.8|.2|"
   ]
  },
  {
   "cell_type": "markdown",
   "metadata": {},
   "source": [
    "1st|2nd|3rd|4th|5th|Total Probability\n",
    "--|--:|--:|--:|--:|--:|\n",
    ".2|.8|.8|.8|.8|.082\n",
    ".8|.2|.8|.8|.8|.082\n",
    ".8|.8|.2|.8|.8|.082\n",
    ".8|.8|.8|.2|.8|.082\n",
    ".8|.8|.8|.8|.2|.082"
   ]
  },
  {
   "cell_type": "code",
   "execution_count": 6,
   "metadata": {},
   "outputs": [
    {
     "data": {
      "text/plain": [
       "0.08192000000000003"
      ]
     },
     "execution_count": 6,
     "metadata": {},
     "output_type": "execute_result"
    }
   ],
   "source": [
    ".2*.8*.8*.8*.8"
   ]
  },
  {
   "cell_type": "code",
   "execution_count": 7,
   "metadata": {
    "scrolled": true
   },
   "outputs": [
    {
     "data": {
      "text/plain": [
       "0.08192000000000002"
      ]
     },
     "execution_count": 7,
     "metadata": {},
     "output_type": "execute_result"
    }
   ],
   "source": [
    "(.8**4) * (.2**1)"
   ]
  },
  {
   "cell_type": "code",
   "execution_count": 11,
   "metadata": {},
   "outputs": [
    {
     "data": {
      "text/plain": [
       "0.410416"
      ]
     },
     "execution_count": 11,
     "metadata": {},
     "output_type": "execute_result"
    }
   ],
   "source": [
    ".08192 + .08192 + .082192 + .082192 + .082192"
   ]
  },
  {
   "cell_type": "code",
   "execution_count": 9,
   "metadata": {},
   "outputs": [
    {
     "data": {
      "text/plain": [
       "0.40960000000000013"
      ]
     },
     "execution_count": 9,
     "metadata": {},
     "output_type": "execute_result"
    }
   ],
   "source": [
    "5 * (.8**4) * (.2**1)"
   ]
  },
  {
   "cell_type": "markdown",
   "metadata": {},
   "source": [
    "### $$P(X = 4) = C(5,4) * .8^4 * (1-.8)^{5-4} = 5 * .8^4 * .2^1 =5 * 8.2 = 41\\%$$"
   ]
  },
  {
   "cell_type": "code",
   "execution_count": 12,
   "metadata": {},
   "outputs": [
    {
     "data": {
      "text/plain": [
       "0.4096000000000001"
      ]
     },
     "execution_count": 12,
     "metadata": {},
     "output_type": "execute_result"
    }
   ],
   "source": [
    ".8**4"
   ]
  },
  {
   "cell_type": "code",
   "execution_count": 13,
   "metadata": {},
   "outputs": [
    {
     "data": {
      "text/plain": [
       "0.2"
      ]
     },
     "execution_count": 13,
     "metadata": {},
     "output_type": "execute_result"
    }
   ],
   "source": [
    ".2**1"
   ]
  },
  {
   "cell_type": "code",
   "execution_count": 14,
   "metadata": {},
   "outputs": [
    {
     "data": {
      "text/plain": [
       "0.08192000000000002"
      ]
     },
     "execution_count": 14,
     "metadata": {},
     "output_type": "execute_result"
    }
   ],
   "source": [
    "0.4096000000000001 * .2"
   ]
  },
  {
   "cell_type": "markdown",
   "metadata": {},
   "source": [
    "### $$P(X = 0) = C(5,0) * .8^0 * (1-.8)^{5-0} = 5 * .8^0 * .2^5 = .3\\%$$\n",
    "### $$P(X = 1) = C(5,1) * .8^1 * (1-.8)^{5-1} = 5 * .8^1 * .2^4 = .64\\%$$\n",
    "### $$P(X = 2) = C(5,2) * .8^2 * (1-.8)^{5-2} = 5 * .8^2 * .2^3 = 5.12\\%$$\n",
    "### $$P(X = 3) = C(5,3) * .8^3 * (1-.8)^{5-3} = 5 * .8^3 * .2^2 = 20.48\\%$$\n",
    "### $$P(X = 4) = C(5,4) * .8^4 * (1-.8)^{5-4} = 5 * .8^4 * .2^1 = 40.96\\%$$\n",
    "### $$P(X = 5) = C(5,5) * .8^5 * (1-.8)^{5-5} = 5 * .8^5 * .2^0 = 32.77\\%$$"
   ]
  },
  {
   "cell_type": "code",
   "execution_count": 24,
   "metadata": {},
   "outputs": [],
   "source": [
    "import math\n",
    "def binomial(n,k):\n",
    "    com = math.factorial(n)/(math.factorial(k)*math.factorial(n-k))\n",
    "    return com * (.8**k) * (.2**(n-k))"
   ]
  },
  {
   "cell_type": "code",
   "execution_count": 28,
   "metadata": {},
   "outputs": [
    {
     "name": "stdout",
     "output_type": "stream",
     "text": [
      "0.0003200000000000001\n",
      "0.006400000000000001\n",
      "0.05120000000000002\n",
      "0.2048000000000001\n",
      "0.40960000000000013\n",
      "0.3276800000000001\n"
     ]
    }
   ],
   "source": [
    "total_make = []\n",
    "for x in range(6):\n",
    "    total_make.append(binomial(5,x))\n",
    "    print(binomial(5,x))"
   ]
  },
  {
   "cell_type": "code",
   "execution_count": 27,
   "metadata": {},
   "outputs": [
    {
     "data": {
      "text/plain": [
       "100.25999999999999"
      ]
     },
     "execution_count": 27,
     "metadata": {},
     "output_type": "execute_result"
    }
   ],
   "source": [
    ".3 + .64 + 5.12 + 20.48 + 40.96 + 32.76"
   ]
  },
  {
   "cell_type": "code",
   "execution_count": 30,
   "metadata": {},
   "outputs": [
    {
     "data": {
      "text/plain": [
       "1.0000000000000004"
      ]
     },
     "execution_count": 30,
     "metadata": {},
     "output_type": "execute_result"
    }
   ],
   "source": [
    "sum(total_make)"
   ]
  },
  {
   "cell_type": "code",
   "execution_count": null,
   "metadata": {},
   "outputs": [],
   "source": []
  }
 ],
 "metadata": {
  "kernelspec": {
   "display_name": "Python 3",
   "language": "python",
   "name": "python3"
  },
  "language_info": {
   "codemirror_mode": {
    "name": "ipython",
    "version": 3
   },
   "file_extension": ".py",
   "mimetype": "text/x-python",
   "name": "python",
   "nbconvert_exporter": "python",
   "pygments_lexer": "ipython3",
   "version": "3.6.5"
  }
 },
 "nbformat": 4,
 "nbformat_minor": 2
}
