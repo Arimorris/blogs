{
 "cells": [
  {
   "cell_type": "markdown",
   "metadata": {},
   "source": [
    "This notebook shows the code used for the Medium blog Probability: BAYES' THEOREM. Link below <br> "
   ]
  },
  {
   "cell_type": "markdown",
   "metadata": {},
   "source": [
    "## $$P(A|B) = \\frac{P(A) * P(B|A)}{P(B)}$$"
   ]
  },
  {
   "cell_type": "markdown",
   "metadata": {},
   "source": [
    "## $$ P(A\\; and\\; B) = P(B) * P(A|B) = P(A) * P(B|A)$$"
   ]
  },
  {
   "cell_type": "markdown",
   "metadata": {},
   "source": [
    "## $$\\frac{P(B) * P(A|B)}{P(B)} = \\frac{P(A) * P(B|A)}{P(B)}$$"
   ]
  },
  {
   "cell_type": "markdown",
   "metadata": {},
   "source": [
    "<s>P(B)</s>\n",
    "~~P(B)~~\n",
    "## $$\\frac{~~P(B)~~ * P(A|B)}{~~P(B)~~} $$"
   ]
  },
  {
   "cell_type": "code",
   "execution_count": null,
   "metadata": {},
   "outputs": [],
   "source": [
    "## $$P(A|B) = \\frac{P(A) * P(B|A)}{P(B)}$$"
   ]
  },
  {
   "cell_type": "code",
   "execution_count": 27,
   "metadata": {},
   "outputs": [],
   "source": [
    "found_spot = .9\n",
    "night = .70\n",
    "night_given_spot = .65"
   ]
  },
  {
   "cell_type": "code",
   "execution_count": 29,
   "metadata": {},
   "outputs": [
    {
     "data": {
      "text/plain": [
       "0.78"
      ]
     },
     "execution_count": 29,
     "metadata": {},
     "output_type": "execute_result"
    }
   ],
   "source": [
    "found_spot = .9\n",
    "night = .75\n",
    "night_given_spot = .65\n",
    "\n",
    "def bayes(A, B, BA):\n",
    "    num = A * BA\n",
    "    denom = B\n",
    "    return num/denom\n",
    "\n",
    "bayes(found_spot, night, night_given_spot)"
   ]
  },
  {
   "cell_type": "code",
   "execution_count": 28,
   "metadata": {},
   "outputs": [
    {
     "data": {
      "text/plain": [
       "0.8357142857142859"
      ]
     },
     "execution_count": 28,
     "metadata": {},
     "output_type": "execute_result"
    }
   ],
   "source": [
    "bayes(found_spot, night, night_given_spot)"
   ]
  },
  {
   "cell_type": "markdown",
   "metadata": {},
   "source": [
    "## $$P(A|B) = \\frac{P(A) * P(B|A)}{P(A) * P(B|A) + P(A') * P(B|A')}$$"
   ]
  },
  {
   "cell_type": "markdown",
   "metadata": {},
   "source": [
    "# $$P(A1|B) = \\frac{P(A1) * P(B|A1)}{P(A1) * P(B|A1) + P(A2) * P(B|A2) + P(A3) * P(B|A3) + ...}$$"
   ]
  }
 ],
 "metadata": {
  "kernelspec": {
   "display_name": "Python 3",
   "language": "python",
   "name": "python3"
  },
  "language_info": {
   "codemirror_mode": {
    "name": "ipython",
    "version": 3
   },
   "file_extension": ".py",
   "mimetype": "text/x-python",
   "name": "python",
   "nbconvert_exporter": "python",
   "pygments_lexer": "ipython3",
   "version": "3.6.5"
  }
 },
 "nbformat": 4,
 "nbformat_minor": 2
}
