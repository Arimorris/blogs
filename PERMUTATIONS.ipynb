{
 "cells": [
  {
   "cell_type": "markdown",
   "metadata": {},
   "source": [
    "This notebook shows the code used for the Medium blog STATISTICS: PERMUTATIONS. Link below <br>\n",
    "https://medium.com/@ari.m.horwitz/probability-permutations-3cffde2d3519"
   ]
  },
  {
   "cell_type": "markdown",
   "metadata": {},
   "source": [
    "$$8*7*6*5*4*3*2*1 = 40,320$$"
   ]
  },
  {
   "cell_type": "markdown",
   "metadata": {},
   "source": [
    "## $$8! = 8*7*6*5*4*3*2*1 = 40,320$$"
   ]
  },
  {
   "cell_type": "markdown",
   "metadata": {},
   "source": [
    "## $$\\frac{8!}{(8-3)!} = \\frac{8!}{5!} = \\frac{8*7*6*5!}{5!} = 8*7*6 = 336$$"
   ]
  },
  {
   "cell_type": "code",
   "execution_count": 31,
   "metadata": {},
   "outputs": [
    {
     "data": {
      "text/plain": [
       "336"
      ]
     },
     "execution_count": 31,
     "metadata": {},
     "output_type": "execute_result"
    }
   ],
   "source": [
    "8 * 7 *6 "
   ]
  },
  {
   "cell_type": "code",
   "execution_count": 1,
   "metadata": {},
   "outputs": [],
   "source": [
    "def factorial(n):\n",
    "    total = 1\n",
    "    while n >=1:\n",
    "        total = total * n\n",
    "        n = n - 1\n",
    "    return total"
   ]
  },
  {
   "cell_type": "code",
   "execution_count": 26,
   "metadata": {},
   "outputs": [
    {
     "data": {
      "text/plain": [
       "40320"
      ]
     },
     "execution_count": 26,
     "metadata": {},
     "output_type": "execute_result"
    }
   ],
   "source": [
    "factorial(8)"
   ]
  },
  {
   "cell_type": "code",
   "execution_count": 37,
   "metadata": {},
   "outputs": [
    {
     "data": {
      "text/plain": [
       "40320"
      ]
     },
     "execution_count": 37,
     "metadata": {},
     "output_type": "execute_result"
    }
   ],
   "source": [
    "def factorial(n):\n",
    "    total = 1\n",
    "    while n >=1:\n",
    "        total = total * n\n",
    "        n = n - 1\n",
    "    return total\n",
    "\n",
    "factorial(8)"
   ]
  },
  {
   "cell_type": "code",
   "execution_count": 39,
   "metadata": {},
   "outputs": [
    {
     "data": {
      "text/plain": [
       "336.0"
      ]
     },
     "execution_count": 39,
     "metadata": {},
     "output_type": "execute_result"
    }
   ],
   "source": [
    "factorial(8)/factorial(8-3)"
   ]
  },
  {
   "cell_type": "code",
   "execution_count": 27,
   "metadata": {},
   "outputs": [
    {
     "data": {
      "text/plain": [
       "40320"
      ]
     },
     "execution_count": 27,
     "metadata": {},
     "output_type": "execute_result"
    }
   ],
   "source": [
    "import math\n",
    "math.factorial(8)"
   ]
  },
  {
   "cell_type": "code",
   "execution_count": 36,
   "metadata": {},
   "outputs": [
    {
     "data": {
      "text/plain": [
       "1"
      ]
     },
     "execution_count": 36,
     "metadata": {},
     "output_type": "execute_result"
    }
   ],
   "source": [
    "math.factorial(0)"
   ]
  },
  {
   "cell_type": "code",
   "execution_count": 35,
   "metadata": {},
   "outputs": [
    {
     "data": {
      "text/plain": [
       "336.0"
      ]
     },
     "execution_count": 35,
     "metadata": {},
     "output_type": "execute_result"
    }
   ],
   "source": [
    "math.factorial(8)/math.factorial(8-3)"
   ]
  },
  {
   "cell_type": "code",
   "execution_count": 40,
   "metadata": {},
   "outputs": [
    {
     "data": {
      "text/plain": [
       "[('Red', 'Green', 'Blue'),\n",
       " ('Red', 'Blue', 'Green'),\n",
       " ('Green', 'Red', 'Blue'),\n",
       " ('Green', 'Blue', 'Red'),\n",
       " ('Blue', 'Red', 'Green'),\n",
       " ('Blue', 'Green', 'Red')]"
      ]
     },
     "execution_count": 40,
     "metadata": {},
     "output_type": "execute_result"
    }
   ],
   "source": [
    "import itertools\n",
    "list(itertools.permutations(['Red',\"Green\",\"Blue\"]))"
   ]
  },
  {
   "cell_type": "code",
   "execution_count": 4,
   "metadata": {},
   "outputs": [
    {
     "data": {
      "text/plain": [
       "<itertools.permutations at 0x109ee2990>"
      ]
     },
     "execution_count": 4,
     "metadata": {},
     "output_type": "execute_result"
    }
   ],
   "source": [
    "import itertools\n",
    "itertools.permutations(['Red',\"Green\",\"Blue\"])"
   ]
  },
  {
   "cell_type": "code",
   "execution_count": 7,
   "metadata": {},
   "outputs": [],
   "source": [
    "#it makes a list\n",
    "color = itertools.permutations(['Red',\"Green\",\"Blue\"],3)"
   ]
  },
  {
   "cell_type": "code",
   "execution_count": 11,
   "metadata": {
    "scrolled": true
   },
   "outputs": [
    {
     "data": {
      "text/plain": [
       "[('Red', 'Green', 'Blue'),\n",
       " ('Red', 'Blue', 'Green'),\n",
       " ('Green', 'Red', 'Blue'),\n",
       " ('Green', 'Blue', 'Red'),\n",
       " ('Blue', 'Red', 'Green'),\n",
       " ('Blue', 'Green', 'Red')]"
      ]
     },
     "execution_count": 11,
     "metadata": {},
     "output_type": "execute_result"
    }
   ],
   "source": [
    "list(color)"
   ]
  },
  {
   "cell_type": "code",
   "execution_count": 12,
   "metadata": {},
   "outputs": [],
   "source": [
    "color = itertools.permutations(['Red',\"Green\",\"Blue\"],2)"
   ]
  },
  {
   "cell_type": "code",
   "execution_count": 14,
   "metadata": {},
   "outputs": [
    {
     "data": {
      "text/plain": [
       "[('Red', 'Green'),\n",
       " ('Red', 'Blue'),\n",
       " ('Green', 'Red'),\n",
       " ('Green', 'Blue'),\n",
       " ('Blue', 'Red'),\n",
       " ('Blue', 'Green')]"
      ]
     },
     "execution_count": 14,
     "metadata": {},
     "output_type": "execute_result"
    }
   ],
   "source": [
    "list(color)"
   ]
  },
  {
   "cell_type": "code",
   "execution_count": 41,
   "metadata": {
    "scrolled": true
   },
   "outputs": [
    {
     "data": {
      "text/plain": [
       "[('Red', 'Green'),\n",
       " ('Red', 'Blue'),\n",
       " ('Green', 'Red'),\n",
       " ('Green', 'Blue'),\n",
       " ('Blue', 'Red'),\n",
       " ('Blue', 'Green')]"
      ]
     },
     "execution_count": 41,
     "metadata": {},
     "output_type": "execute_result"
    }
   ],
   "source": [
    "list(itertools.permutations(['Red',\"Green\",\"Blue\"],2))"
   ]
  },
  {
   "cell_type": "code",
   "execution_count": 44,
   "metadata": {},
   "outputs": [
    {
     "data": {
      "text/plain": [
       "6"
      ]
     },
     "execution_count": 44,
     "metadata": {},
     "output_type": "execute_result"
    }
   ],
   "source": [
    "color = list(itertools.permutations(['Red',\"Green\",\"Blue\"]))\n",
    "len(color)"
   ]
  },
  {
   "cell_type": "code",
   "execution_count": 24,
   "metadata": {},
   "outputs": [
    {
     "name": "stdout",
     "output_type": "stream",
     "text": [
      "24\n"
     ]
    },
    {
     "data": {
      "text/plain": [
       "[('Red', 'Green', 'Blue', 'Yellow'),\n",
       " ('Red', 'Green', 'Yellow', 'Blue'),\n",
       " ('Red', 'Blue', 'Green', 'Yellow'),\n",
       " ('Red', 'Blue', 'Yellow', 'Green'),\n",
       " ('Red', 'Yellow', 'Green', 'Blue'),\n",
       " ('Red', 'Yellow', 'Blue', 'Green'),\n",
       " ('Green', 'Red', 'Blue', 'Yellow'),\n",
       " ('Green', 'Red', 'Yellow', 'Blue'),\n",
       " ('Green', 'Blue', 'Red', 'Yellow'),\n",
       " ('Green', 'Blue', 'Yellow', 'Red'),\n",
       " ('Green', 'Yellow', 'Red', 'Blue'),\n",
       " ('Green', 'Yellow', 'Blue', 'Red'),\n",
       " ('Blue', 'Red', 'Green', 'Yellow'),\n",
       " ('Blue', 'Red', 'Yellow', 'Green'),\n",
       " ('Blue', 'Green', 'Red', 'Yellow'),\n",
       " ('Blue', 'Green', 'Yellow', 'Red'),\n",
       " ('Blue', 'Yellow', 'Red', 'Green'),\n",
       " ('Blue', 'Yellow', 'Green', 'Red'),\n",
       " ('Yellow', 'Red', 'Green', 'Blue'),\n",
       " ('Yellow', 'Red', 'Blue', 'Green'),\n",
       " ('Yellow', 'Green', 'Red', 'Blue'),\n",
       " ('Yellow', 'Green', 'Blue', 'Red'),\n",
       " ('Yellow', 'Blue', 'Red', 'Green'),\n",
       " ('Yellow', 'Blue', 'Green', 'Red')]"
      ]
     },
     "execution_count": 24,
     "metadata": {},
     "output_type": "execute_result"
    }
   ],
   "source": [
    "color = list(itertools.permutations(['Red',\"Green\",\"Blue\",\"Yellow\"]))\n",
    "print(len(color))\n",
    "color"
   ]
  },
  {
   "cell_type": "code",
   "execution_count": 23,
   "metadata": {
    "scrolled": false
   },
   "outputs": [
    {
     "name": "stdout",
     "output_type": "stream",
     "text": [
      "24\n"
     ]
    },
    {
     "data": {
      "text/plain": [
       "[('Red', 'Green', 'Blue'),\n",
       " ('Red', 'Green', 'Yellow'),\n",
       " ('Red', 'Blue', 'Green'),\n",
       " ('Red', 'Blue', 'Yellow'),\n",
       " ('Red', 'Yellow', 'Green'),\n",
       " ('Red', 'Yellow', 'Blue'),\n",
       " ('Green', 'Red', 'Blue'),\n",
       " ('Green', 'Red', 'Yellow'),\n",
       " ('Green', 'Blue', 'Red'),\n",
       " ('Green', 'Blue', 'Yellow'),\n",
       " ('Green', 'Yellow', 'Red'),\n",
       " ('Green', 'Yellow', 'Blue'),\n",
       " ('Blue', 'Red', 'Green'),\n",
       " ('Blue', 'Red', 'Yellow'),\n",
       " ('Blue', 'Green', 'Red'),\n",
       " ('Blue', 'Green', 'Yellow'),\n",
       " ('Blue', 'Yellow', 'Red'),\n",
       " ('Blue', 'Yellow', 'Green'),\n",
       " ('Yellow', 'Red', 'Green'),\n",
       " ('Yellow', 'Red', 'Blue'),\n",
       " ('Yellow', 'Green', 'Red'),\n",
       " ('Yellow', 'Green', 'Blue'),\n",
       " ('Yellow', 'Blue', 'Red'),\n",
       " ('Yellow', 'Blue', 'Green')]"
      ]
     },
     "execution_count": 23,
     "metadata": {},
     "output_type": "execute_result"
    }
   ],
   "source": [
    "color = list(itertools.permutations(['Red',\"Green\",\"Blue\",\"Yellow\"],3))\n",
    "print(len(color))\n",
    "color"
   ]
  },
  {
   "cell_type": "code",
   "execution_count": 25,
   "metadata": {},
   "outputs": [
    {
     "name": "stdout",
     "output_type": "stream",
     "text": [
      "12\n"
     ]
    },
    {
     "data": {
      "text/plain": [
       "[('Red', 'Green'),\n",
       " ('Red', 'Blue'),\n",
       " ('Red', 'Yellow'),\n",
       " ('Green', 'Red'),\n",
       " ('Green', 'Blue'),\n",
       " ('Green', 'Yellow'),\n",
       " ('Blue', 'Red'),\n",
       " ('Blue', 'Green'),\n",
       " ('Blue', 'Yellow'),\n",
       " ('Yellow', 'Red'),\n",
       " ('Yellow', 'Green'),\n",
       " ('Yellow', 'Blue')]"
      ]
     },
     "execution_count": 25,
     "metadata": {},
     "output_type": "execute_result"
    }
   ],
   "source": [
    "color = list(itertools.permutations(['Red',\"Green\",\"Blue\",\"Yellow\"],2))\n",
    "print(len(color))\n",
    "color"
   ]
  },
  {
   "cell_type": "code",
   "execution_count": null,
   "metadata": {},
   "outputs": [],
   "source": []
  }
 ],
 "metadata": {
  "kernelspec": {
   "display_name": "Python 3",
   "language": "python",
   "name": "python3"
  },
  "language_info": {
   "codemirror_mode": {
    "name": "ipython",
    "version": 3
   },
   "file_extension": ".py",
   "mimetype": "text/x-python",
   "name": "python",
   "nbconvert_exporter": "python",
   "pygments_lexer": "ipython3",
   "version": "3.6.5"
  }
 },
 "nbformat": 4,
 "nbformat_minor": 2
}
