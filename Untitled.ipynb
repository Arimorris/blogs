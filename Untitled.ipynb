{
 "cells": [
  {
   "cell_type": "code",
   "execution_count": 1,
   "metadata": {},
   "outputs": [],
   "source": [
    "import pandas as pd\n",
    "import numpy as np\n",
    "import os\n",
    "import matplotlib\n",
    "import matplotlib.pyplot as plt\n",
    "import seaborn as sns\n",
    "import random\n",
    "import collections\n",
    "import math"
   ]
  },
  {
   "cell_type": "code",
   "execution_count": 2,
   "metadata": {},
   "outputs": [],
   "source": [
    "x = [\"Heads\", \"Tails\"]\n",
    "y = [60 ,40]"
   ]
  },
  {
   "cell_type": "code",
   "execution_count": 3,
   "metadata": {
    "scrolled": true
   },
   "outputs": [
    {
     "data": {
      "image/png": "[encoded data removed]",
      "text/plain": [
       "<Figure size 360x360 with 1 Axes>"
      ]
     },
     "metadata": {},
     "output_type": "display_data"
    }
   ],
   "source": [
    "plt.figure(figsize=(5,5))\n",
    "plt.bar(x,y)\n",
    "plt.show()"
   ]
  },
  {
   "cell_type": "code",
   "execution_count": 17,
   "metadata": {},
   "outputs": [],
   "source": [
    "np.random.seed(100)\n",
    "coin = ['heads', 'tails']\n",
    "f1 = np.random.choice(coin)\n",
    "f5 = np.random.choice(coin,5)\n",
    "f10 = np.random.choice(coin,10)"
   ]
  },
  {
   "cell_type": "code",
   "execution_count": 18,
   "metadata": {},
   "outputs": [
    {
     "name": "stdout",
     "output_type": "stream",
     "text": [
      "heads\n",
      "['heads' 'tails' 'tails' 'tails' 'tails']\n",
      "['heads' 'heads' 'heads' 'heads' 'heads' 'tails' 'heads' 'heads' 'heads'\n",
      " 'heads']\n"
     ]
    }
   ],
   "source": [
    "print(f1)\n",
    "print(f5)\n",
    "print(f10)"
   ]
  },
  {
   "cell_type": "code",
   "execution_count": 24,
   "metadata": {},
   "outputs": [
    {
     "name": "stdout",
     "output_type": "stream",
     "text": [
      "0\n",
      "1\n",
      "9\n"
     ]
    }
   ],
   "source": [
    "print(list(f1).count('heads'))\n",
    "print(list(f5).count('heads'))\n",
    "print(list(f10).count('heads'))"
   ]
  },
  {
   "cell_type": "code",
   "execution_count": 4,
   "metadata": {},
   "outputs": [],
   "source": [
    "# randomly generate heads or tails\n",
    "np.random.seed(100)\n",
    "coin = ['heads', 'tails']\n",
    "\n",
    "flip_1 = np.random.choice(coin)\n",
    "flip_10 = np.random.choice(coin,10)\n",
    "flip_100 = np.random.choice(coin,100)\n",
    "flip_1k = np.random.choice(coin,1000)\n",
    "flip_10k = np.random.choice(coin,10000)\n",
    "flip_100k = np.random.choice(coin, 100000)\n",
    "flip_1m = np.random.choice(coin, 1000000)\n",
    "flip_10m = np.random.choice(coin,10000000)\n",
    "flip_100m = np.random.choice(coin, 100000000)"
   ]
  },
  {
   "cell_type": "code",
   "execution_count": 11,
   "metadata": {},
   "outputs": [],
   "source": [
    "# get frequency of heads in each experiment\n",
    "freq_1 = list(flip_1).count('heads')\n",
    "freq_10 = list(flip_10).count('heads')\n",
    "freq_100 = list(flip_100).count('heads')\n",
    "freq_1k = list(flip_1k).count('heads')\n",
    "freq_10k = list(flip_10k).count('heads')\n",
    "freq_100k = list(flip_100k).count('heads')\n",
    "freq_1m = list(flip_1m).count('heads')\n",
    "freq_10m = list(flip_10m).count('heads')\n",
    "freq_100m = list(flip_100m).count('heads')"
   ]
  },
  {
   "cell_type": "code",
   "execution_count": 13,
   "metadata": {},
   "outputs": [
    {
     "data": {
      "text/plain": [
       "0.49995057"
      ]
     },
     "execution_count": 13,
     "metadata": {},
     "output_type": "execute_result"
    }
   ],
   "source": [
    "freq_100m/100000000"
   ]
  },
  {
   "cell_type": "code",
   "execution_count": 14,
   "metadata": {},
   "outputs": [],
   "source": [
    "prob_1 = freq_1/1\n",
    "prob_10 = freq_10/10\n",
    "prob_100 = freq_100/100\n",
    "prob_1k = freq_1k/1000\n",
    "prob_10k = freq_10k/10000\n",
    "prob_100k = freq_100k/100000\n",
    "prob_1m = freq_1m/1000000\n",
    "prob_10m = freq_10m/10000000\n",
    "prob_100m = freq_100m/100000000"
   ]
  },
  {
   "cell_type": "code",
   "execution_count": 23,
   "metadata": {},
   "outputs": [
    {
     "data": {
      "text/plain": [
       "0.49995057"
      ]
     },
     "execution_count": 23,
     "metadata": {},
     "output_type": "execute_result"
    }
   ],
   "source": [
    "prob_100m"
   ]
  },
  {
   "cell_type": "code",
   "execution_count": 24,
   "metadata": {},
   "outputs": [],
   "source": [
    "probs = [prob_1, prob_10, prob_100, prob_1k, prob_10k, prob_100k, prob_1m, prob_10m, prob_100m]\n",
    "flips = ['1', '10', '100', '1k', '10k','100k', '1m', '10m', '100m']"
   ]
  },
  {
   "cell_type": "code",
   "execution_count": null,
   "metadata": {},
   "outputs": [],
   "source": [
    "xticklabels({'-3\\pi','-2\\pi','-\\pi','0','\\pi','2\\pi','3\\pi'})"
   ]
  },
  {
   "cell_type": "code",
   "execution_count": 115,
   "metadata": {},
   "outputs": [
    {
     "data": {
      "text/plain": [
       "[<matplotlib.lines.Line2D at 0x1a2264c5c0>]"
      ]
     },
     "execution_count": 115,
     "metadata": {},
     "output_type": "execute_result"
    },
    {
     "data": {
      "image/png": "[encoded data removed]",
      "text/plain": [
       "<Figure size 360x360 with 1 Axes>"
      ]
     },
     "metadata": {},
     "output_type": "display_data"
    }
   ],
   "source": [
    "plt.figure(figsize=(5,5))\n",
    "plt.ylim(0,1, .5)\n",
    "plt.xticks(np.arange(9), ('1', '10', '100', '1k', '10k','100k', '1m', '10m', '100m'))\n",
    "plt.plot(probs)"
   ]
  },
  {
   "cell_type": "code",
   "execution_count": 37,
   "metadata": {},
   "outputs": [],
   "source": [
    "roll_10 = np.random.randint(1,6, size=10)"
   ]
  },
  {
   "cell_type": "code",
   "execution_count": 38,
   "metadata": {},
   "outputs": [
    {
     "data": {
      "text/plain": [
       "array([5, 3, 2, 1, 2, 2, 1, 3, 2, 2])"
      ]
     },
     "execution_count": 38,
     "metadata": {},
     "output_type": "execute_result"
    }
   ],
   "source": [
    "roll_10"
   ]
  },
  {
   "cell_type": "code",
   "execution_count": 77,
   "metadata": {},
   "outputs": [],
   "source": [
    "np.random.seed(100)\n",
    "\n",
    "roll_10 = np.random.randint(1,7, size=10)\n",
    "roll_100 = np.random.randint(1,7, size=100)\n",
    "roll_1k = np.random.randint(1,7, size=1000)\n",
    "roll_1m = np.random.randint(1,7, size=1000000)\n",
    "roll_100m = np.random.randint(1,7, size=100000000)"
   ]
  },
  {
   "cell_type": "code",
   "execution_count": 78,
   "metadata": {},
   "outputs": [],
   "source": [
    "freq_10_roll = list(roll_10).count(6)\n",
    "freq_100_roll = list(roll_100).count(6)\n",
    "freq_1k_roll = list(roll_1k).count(6)\n",
    "freq_1m_roll = list(roll_1m).count(6)\n",
    "freq_100m_roll = list(roll_100m).count(6)"
   ]
  },
  {
   "cell_type": "code",
   "execution_count": 81,
   "metadata": {},
   "outputs": [],
   "source": [
    "roll_prob_10 = freq_10_roll/10\n",
    "roll_prob_100 = freq_100_roll/100\n",
    "roll_prob_1k = freq_1k_roll/1000\n",
    "roll_prob_1m = freq_1m_roll/1000000\n",
    "roll_prob_100m = freq_100m_roll/100000000"
   ]
  },
  {
   "cell_type": "code",
   "execution_count": 82,
   "metadata": {},
   "outputs": [],
   "source": [
    "roll_probs = [roll_prob_10, roll_prob_100, roll_prob_1k, roll_prob_1m, roll_prob_100m]\n",
    "flips = ['10', '100', '1k','1m','100m']"
   ]
  },
  {
   "cell_type": "code",
   "execution_count": 116,
   "metadata": {},
   "outputs": [
    {
     "data": {
      "text/plain": [
       "[<matplotlib.lines.Line2D at 0x1a22f85b00>]"
      ]
     },
     "execution_count": 116,
     "metadata": {},
     "output_type": "execute_result"
    },
    {
     "data": {
      "image/png": "[encoded data removed]",
      "text/plain": [
       "<Figure size 360x360 with 1 Axes>"
      ]
     },
     "metadata": {},
     "output_type": "display_data"
    }
   ],
   "source": [
    "plt.figure(figsize=(5,5))\n",
    "plt.ylim(0.05,.25)\n",
    "plt.xticks(np.arange(5), ('10', '100', '1k','1m','100m'))\n",
    "plt.plot(roll_probs)"
   ]
  },
  {
   "cell_type": "code",
   "execution_count": 76,
   "metadata": {},
   "outputs": [
    {
     "data": {
      "text/plain": [
       "array([1, 1, 4, 1, 3, 5, 3, 3, 3, 3])"
      ]
     },
     "execution_count": 76,
     "metadata": {},
     "output_type": "execute_result"
    }
   ],
   "source": [
    "roll_10"
   ]
  },
  {
   "cell_type": "code",
   "execution_count": 87,
   "metadata": {},
   "outputs": [],
   "source": [
    "freq_10_3 = list(roll_10).count(3)\n",
    "freq_100_3 = list(roll_100).count(3)\n",
    "freq_1k_3 = list(roll_1k).count(3)\n",
    "freq_1m_3 = list(roll_1m).count(3)\n",
    "freq_100m_3 = list(roll_100m).count(3)"
   ]
  },
  {
   "cell_type": "code",
   "execution_count": 104,
   "metadata": {},
   "outputs": [],
   "source": [
    "r3_prob_10 = freq_10_3/10\n",
    "r3_prob_100 = freq_100_3/100\n",
    "r3_prob_1k = freq_1k_3/1000\n",
    "r3_prob_1m = freq_1m_3/1000000\n",
    "r3_prob_100m = freq_100m_3/100000000"
   ]
  },
  {
   "cell_type": "code",
   "execution_count": 105,
   "metadata": {},
   "outputs": [],
   "source": [
    "roll_3 = [r3_prob_10,r3_prob_100,r3_prob_1k,r3_prob_1m,r3_prob_100m]"
   ]
  },
  {
   "cell_type": "code",
   "execution_count": 117,
   "metadata": {},
   "outputs": [
    {
     "data": {
      "text/plain": [
       "[<matplotlib.lines.Line2D at 0x1a2270c710>]"
      ]
     },
     "execution_count": 117,
     "metadata": {},
     "output_type": "execute_result"
    },
    {
     "data": {
      "image/png": "[encoded data removed]",
      "text/plain": [
       "<Figure size 360x360 with 1 Axes>"
      ]
     },
     "metadata": {},
     "output_type": "display_data"
    }
   ],
   "source": [
    "plt.figure(figsize=(5,5))\n",
    "plt.ylim(0,.5)\n",
    "plt.xticks(np.arange(5), ('10', '100', '1k','1m','100m'))\n",
    "plt.plot(roll_3)"
   ]
  },
  {
   "cell_type": "code",
   "execution_count": 109,
   "metadata": {},
   "outputs": [],
   "source": [
    "prob_e_10 = (freq_10_roll+freq_10_3)/10\n",
    "prob_e_100 = (freq_100_roll+freq_100_3)/100\n",
    "prob_e_1k = (freq_1k_roll+freq_1k_3)/1000\n",
    "prob_e_1m = (freq_1m_roll+freq_1m_3)/1000000\n",
    "prob_e_100m = (freq_100m_roll+freq_100m_3)/100000000"
   ]
  },
  {
   "cell_type": "code",
   "execution_count": 110,
   "metadata": {},
   "outputs": [],
   "source": [
    "either_3_or_6 = [prob_e_10,prob_e_100,prob_e_1k,prob_e_1m,prob_e_100m]"
   ]
  },
  {
   "cell_type": "code",
   "execution_count": 118,
   "metadata": {},
   "outputs": [
    {
     "data": {
      "text/plain": [
       "[<matplotlib.lines.Line2D at 0x1a230ac4e0>]"
      ]
     },
     "execution_count": 118,
     "metadata": {},
     "output_type": "execute_result"
    },
    {
     "data": {
      "image/png": "[encoded data removed]",
      "text/plain": [
       "<Figure size 360x360 with 1 Axes>"
      ]
     },
     "metadata": {},
     "output_type": "display_data"
    }
   ],
   "source": [
    "plt.figure(figsize=(5,5))\n",
    "plt.ylim(.2,.6)\n",
    "plt.xticks(np.arange(5), ('10', '100', '1k','1m','100m'))\n",
    "plt.plot(either_3_or_6)"
   ]
  },
  {
   "cell_type": "code",
   "execution_count": null,
   "metadata": {},
   "outputs": [],
   "source": []
  }
 ],
 "metadata": {
  "kernelspec": {
   "display_name": "Python 3",
   "language": "python",
   "name": "python3"
  },
  "language_info": {
   "codemirror_mode": {
    "name": "ipython",
    "version": 3
   },
   "file_extension": ".py",
   "mimetype": "text/x-python",
   "name": "python",
   "nbconvert_exporter": "python",
   "pygments_lexer": "ipython3",
   "version": "3.6.5"
  }
 },
 "nbformat": 4,
 "nbformat_minor": 2
}
