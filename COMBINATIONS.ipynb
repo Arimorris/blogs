{
 "cells": [
  {
   "cell_type": "markdown",
   "metadata": {},
   "source": [
    "This notebook shows the code used for the Medium blog STATISTICS: COMBINATIONS. Link below <br>"
   ]
  },
  {
   "cell_type": "markdown",
   "metadata": {},
   "source": [
    "## $$\\frac{8!}{3!(8-3)!} = \\frac{8!}{3!5!} = \\frac{8*7*6*5!}{6*5!} = 8*7 = 56$$"
   ]
  },
  {
   "cell_type": "markdown",
   "metadata": {},
   "source": [
    "# $$\\frac{n!}{k!(n-k)!}$$"
   ]
  },
  {
   "cell_type": "code",
   "execution_count": 9,
   "metadata": {},
   "outputs": [
    {
     "data": {
      "text/plain": [
       "56"
      ]
     },
     "execution_count": 9,
     "metadata": {},
     "output_type": "execute_result"
    }
   ],
   "source": [
    "import math\n",
    "math.factorial(8)/(math.factorial(8-3)*math.factorial(3))"
   ]
  },
  {
   "cell_type": "code",
   "execution_count": 53,
   "metadata": {},
   "outputs": [
    {
     "data": {
      "text/plain": [
       "20.0"
      ]
     },
     "execution_count": 53,
     "metadata": {},
     "output_type": "execute_result"
    }
   ],
   "source": [
    "import math\n",
    "n = 8 \n",
    "k = 3\n",
    "num = math.factorial(n)\n",
    "denom = math.factorial(k)*math.factorial(n-k)\n",
    "num/denom"
   ]
  },
  {
   "cell_type": "code",
   "execution_count": 19,
   "metadata": {},
   "outputs": [
    {
     "data": {
      "text/plain": [
       "[(1, 5), (1, 6), (2, 5), (2, 6), (3, 5), (3, 6), (4, 5), (4, 6)]"
      ]
     },
     "execution_count": 19,
     "metadata": {},
     "output_type": "execute_result"
    }
   ],
   "source": [
    "import itertools\n",
    "A = [1,2,3,4]\n",
    "B = [5,6]\n",
    "list(itertools.product(A,B))"
   ]
  },
  {
   "cell_type": "code",
   "execution_count": 48,
   "metadata": {
    "scrolled": false
   },
   "outputs": [
    {
     "data": {
      "text/plain": [
       "56"
      ]
     },
     "metadata": {},
     "output_type": "display_data"
    },
    {
     "data": {
      "text/plain": [
       "[('A', 'B', 'C'),\n",
       " ('A', 'B', 'D'),\n",
       " ('A', 'B', 'E'),\n",
       " ('A', 'B', 'F'),\n",
       " ('A', 'B', 'G'),\n",
       " ('A', 'B', 'H'),\n",
       " ('A', 'C', 'D'),\n",
       " ('A', 'C', 'E'),\n",
       " ('A', 'C', 'F'),\n",
       " ('A', 'C', 'G'),\n",
       " ('A', 'C', 'H'),\n",
       " ('A', 'D', 'E'),\n",
       " ('A', 'D', 'F'),\n",
       " ('A', 'D', 'G'),\n",
       " ('A', 'D', 'H'),\n",
       " ('A', 'E', 'F'),\n",
       " ('A', 'E', 'G'),\n",
       " ('A', 'E', 'H'),\n",
       " ('A', 'F', 'G'),\n",
       " ('A', 'F', 'H'),\n",
       " ('A', 'G', 'H'),\n",
       " ('B', 'C', 'D'),\n",
       " ('B', 'C', 'E'),\n",
       " ('B', 'C', 'F'),\n",
       " ('B', 'C', 'G'),\n",
       " ('B', 'C', 'H'),\n",
       " ('B', 'D', 'E'),\n",
       " ('B', 'D', 'F'),\n",
       " ('B', 'D', 'G'),\n",
       " ('B', 'D', 'H'),\n",
       " ('B', 'E', 'F'),\n",
       " ('B', 'E', 'G'),\n",
       " ('B', 'E', 'H'),\n",
       " ('B', 'F', 'G'),\n",
       " ('B', 'F', 'H'),\n",
       " ('B', 'G', 'H'),\n",
       " ('C', 'D', 'E'),\n",
       " ('C', 'D', 'F'),\n",
       " ('C', 'D', 'G'),\n",
       " ('C', 'D', 'H'),\n",
       " ('C', 'E', 'F'),\n",
       " ('C', 'E', 'G'),\n",
       " ('C', 'E', 'H'),\n",
       " ('C', 'F', 'G'),\n",
       " ('C', 'F', 'H'),\n",
       " ('C', 'G', 'H'),\n",
       " ('D', 'E', 'F'),\n",
       " ('D', 'E', 'G'),\n",
       " ('D', 'E', 'H'),\n",
       " ('D', 'F', 'G'),\n",
       " ('D', 'F', 'H'),\n",
       " ('D', 'G', 'H'),\n",
       " ('E', 'F', 'G'),\n",
       " ('E', 'F', 'H'),\n",
       " ('E', 'G', 'H'),\n",
       " ('F', 'G', 'H')]"
      ]
     },
     "execution_count": 48,
     "metadata": {},
     "output_type": "execute_result"
    }
   ],
   "source": [
    "import itertools\n",
    "run = ['A','B','C','D','E','F','G','H']\n",
    "top_finishers = list(itertools.combinations(run,3))\n",
    "display(len(top_finishers))\n",
    "top_finishers"
   ]
  },
  {
   "cell_type": "markdown",
   "metadata": {},
   "source": [
    "# $$\\frac{(k+n-1)!}{k!(n-1)!}$$"
   ]
  },
  {
   "cell_type": "markdown",
   "metadata": {},
   "source": [
    "## $$\\frac{(3+4-1)!}{3!(4-1)!} = \\frac{6!}{3!3!} = \\frac{6*5*4*3!}{6*3!} = 5*4 = 20$$"
   ]
  },
  {
   "cell_type": "code",
   "execution_count": 52,
   "metadata": {},
   "outputs": [
    {
     "data": {
      "text/plain": [
       "20"
      ]
     },
     "execution_count": 52,
     "metadata": {},
     "output_type": "execute_result"
    }
   ],
   "source": [
    "import math\n",
    "n = 4\n",
    "k = 3\n",
    "num = math.factorial(k+n-1)\n",
    "denom = math.factorial(k)*math.factorial(n-1)\n",
    "num/denom"
   ]
  },
  {
   "cell_type": "code",
   "execution_count": 40,
   "metadata": {},
   "outputs": [
    {
     "data": {
      "text/plain": [
       "20.0"
      ]
     },
     "execution_count": 40,
     "metadata": {},
     "output_type": "execute_result"
    }
   ],
   "source": [
    "import math\n",
    "math.factorial(3+4-1)/(math.factorial(4-1)*math.factorial(3))"
   ]
  },
  {
   "cell_type": "code",
   "execution_count": 33,
   "metadata": {
    "scrolled": false
   },
   "outputs": [
    {
     "data": {
      "text/plain": [
       "20"
      ]
     },
     "metadata": {},
     "output_type": "display_data"
    },
    {
     "data": {
      "text/plain": [
       "[('Penny', 'Penny', 'Penny'),\n",
       " ('Penny', 'Penny', 'Nickle'),\n",
       " ('Penny', 'Penny', 'Dime'),\n",
       " ('Penny', 'Penny', 'Quarter'),\n",
       " ('Penny', 'Nickle', 'Nickle'),\n",
       " ('Penny', 'Nickle', 'Dime'),\n",
       " ('Penny', 'Nickle', 'Quarter'),\n",
       " ('Penny', 'Dime', 'Dime'),\n",
       " ('Penny', 'Dime', 'Quarter'),\n",
       " ('Penny', 'Quarter', 'Quarter'),\n",
       " ('Nickle', 'Nickle', 'Nickle'),\n",
       " ('Nickle', 'Nickle', 'Dime'),\n",
       " ('Nickle', 'Nickle', 'Quarter'),\n",
       " ('Nickle', 'Dime', 'Dime'),\n",
       " ('Nickle', 'Dime', 'Quarter'),\n",
       " ('Nickle', 'Quarter', 'Quarter'),\n",
       " ('Dime', 'Dime', 'Dime'),\n",
       " ('Dime', 'Dime', 'Quarter'),\n",
       " ('Dime', 'Quarter', 'Quarter'),\n",
       " ('Quarter', 'Quarter', 'Quarter')]"
      ]
     },
     "execution_count": 33,
     "metadata": {},
     "output_type": "execute_result"
    }
   ],
   "source": [
    "import itertools\n",
    "C = ['Penny', 'Nickle', 'Dime', 'Quarter']\n",
    "coins = list(itertools.combinations_with_replacement(C,3))\n",
    "display(len(coins))\n",
    "coins"
   ]
  },
  {
   "cell_type": "code",
   "execution_count": 46,
   "metadata": {},
   "outputs": [
    {
     "data": {
      "text/plain": [
       "4"
      ]
     },
     "metadata": {},
     "output_type": "display_data"
    },
    {
     "data": {
      "text/plain": [
       "[('Penny', 'Nickle', 'Dime'),\n",
       " ('Penny', 'Nickle', 'Quarter'),\n",
       " ('Penny', 'Dime', 'Quarter'),\n",
       " ('Nickle', 'Dime', 'Quarter')]"
      ]
     },
     "execution_count": 46,
     "metadata": {},
     "output_type": "execute_result"
    }
   ],
   "source": [
    "import itertools\n",
    "C = ['Penny', 'Nickle', 'Dime', 'Quarter']\n",
    "coins = list(itertools.combinations(C,3))\n",
    "display(len(coins))\n",
    "coins"
   ]
  },
  {
   "cell_type": "code",
   "execution_count": null,
   "metadata": {},
   "outputs": [],
   "source": [
    "def factorial(n):\n",
    "    total = 1\n",
    "    while n >=1:\n",
    "        total = total * n\n",
    "        n = n - 1\n",
    "    return total"
   ]
  },
  {
   "cell_type": "code",
   "execution_count": 51,
   "metadata": {},
   "outputs": [
    {
     "data": {
      "text/plain": [
       "<itertools.combinations at 0x1119a72c8>"
      ]
     },
     "execution_count": 51,
     "metadata": {},
     "output_type": "execute_result"
    }
   ],
   "source": [
    "# Returns an iterator; something that you can apply for on.\n",
    "itertools.combinations(C,3)"
   ]
  },
  {
   "cell_type": "code",
   "execution_count": null,
   "metadata": {},
   "outputs": [],
   "source": []
  }
 ],
 "metadata": {
  "kernelspec": {
   "display_name": "Python 3",
   "language": "python",
   "name": "python3"
  },
  "language_info": {
   "codemirror_mode": {
    "name": "ipython",
    "version": 3
   },
   "file_extension": ".py",
   "mimetype": "text/x-python",
   "name": "python",
   "nbconvert_exporter": "python",
   "pygments_lexer": "ipython3",
   "version": "3.6.5"
  }
 },
 "nbformat": 4,
 "nbformat_minor": 2
}
